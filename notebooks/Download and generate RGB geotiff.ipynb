{
 "cells": [
  {
   "cell_type": "code",
   "execution_count": null,
   "id": "4fe1f0f9-4a16-48e0-b14a-cd2095161bea",
   "metadata": {},
   "outputs": [],
   "source": []
  },
  {
   "cell_type": "code",
   "execution_count": null,
   "id": "02ceec99",
   "metadata": {},
   "outputs": [],
   "source": [
    "%load_ext lab_black"
   ]
  },
  {
   "cell_type": "code",
   "execution_count": null,
   "id": "950e1e25",
   "metadata": {},
   "outputs": [],
   "source": [
    "import datetime\n",
    "import satdata\n",
    "import satpy\n",
    "from pathlib import Path\n",
    "import matplotlib.pyplot as plt\n",
    "import cartopy.crs as ccrs\n",
    "import xarray as xr\n",
    "import rioxarray as rxr"
   ]
  },
  {
   "cell_type": "markdown",
   "id": "7b69d559",
   "metadata": {},
   "source": [
    "# Downloading files"
   ]
  },
  {
   "cell_type": "code",
   "execution_count": null,
   "id": "39331993",
   "metadata": {},
   "outputs": [
    {
     "name": "stdout",
     "output_type": "stream",
     "text": [
      "Quering prefix `ABI-L1b-RadF/2020/033/13`\n"
     ]
    },
    {
     "name": "stderr",
     "output_type": "stream",
     "text": [
      "100%|██████████| 1/1 [00:34<00:00, 34.10s/it]\n"
     ]
    },
    {
     "name": "stdout",
     "output_type": "stream",
     "text": [
      "Quering prefix `ABI-L1b-RadF/2020/033/13`\n"
     ]
    },
    {
     "name": "stderr",
     "output_type": "stream",
     "text": [
      "100%|██████████| 1/1 [03:11<00:00, 191.76s/it]\n"
     ]
    },
    {
     "name": "stdout",
     "output_type": "stream",
     "text": [
      "Quering prefix `ABI-L1b-RadF/2020/033/13`\n"
     ]
    },
    {
     "name": "stderr",
     "output_type": "stream",
     "text": [
      "100%|██████████| 1/1 [00:48<00:00, 48.94s/it]\n"
     ]
    }
   ],
   "source": [
    "t = datetime.datetime(day=2, month=2, year=2020, hour=14, minute=0)\n",
    "dt_max = datetime.timedelta(minutes=20)\n",
    "\n",
    "cli = satdata.Goes16AWS()\n",
    "\n",
    "filenames = []\n",
    "for channel in [1, 2, 3]:\n",
    "    keys = cli.query(time=t, region=\"F\", debug=True, dt_max=dt_max, channel=channel)\n",
    "    fn = cli.download(keys[0])[0]\n",
    "    filenames.append(fn)"
   ]
  },
  {
   "cell_type": "markdown",
   "id": "f5138845",
   "metadata": {},
   "source": [
    "# Creating truecolor composites"
   ]
  },
  {
   "cell_type": "code",
   "execution_count": null,
   "id": "9373e835",
   "metadata": {},
   "outputs": [],
   "source": [
    "scene = satpy.Scene(filenames, reader=\"abi_l1b\")"
   ]
  },
  {
   "cell_type": "code",
   "execution_count": null,
   "id": "1035cef9",
   "metadata": {},
   "outputs": [
    {
     "name": "stderr",
     "output_type": "stream",
     "text": [
      "The following datasets were not created and may require resampling to be generated: DataID(name='true_color')\n"
     ]
    }
   ],
   "source": [
    "# instruct satpy to load the channels necessary for the `true_color`\n",
    "# composite\n",
    "scene.load([\"true_color\"])"
   ]
  },
  {
   "cell_type": "code",
   "execution_count": null,
   "id": "5d4f0ca3",
   "metadata": {},
   "outputs": [
    {
     "data": {
      "text/plain": [
       "<cartopy.mpl.feature_artist.FeatureArtist at 0x7f708ba0be80>"
      ]
     },
     "execution_count": 8,
     "metadata": {},
     "output_type": "execute_result"
    },
    {
     "data": {
      "image/png": "[encoded data removed]",
      "text/plain": [
       "<Figure size 432x288 with 1 Axes>"
      ]
     },
     "metadata": {
      "needs_background": "light"
     },
     "output_type": "display_data"
    }
   ],
   "source": [
    "BBOX = [-60, -50, 11, 16]  # WESN\n",
    "\n",
    "fig, ax = plt.subplots(subplot_kw=dict(projection=ccrs.PlateCarree()))\n",
    "\n",
    "ax.set_extent(BBOX, crs=ccrs.PlateCarree())\n",
    "ax.gridlines(draw_labels=[\"left\", \"bottom\"])\n",
    "ax.coastlines()"
   ]
  },
  {
   "cell_type": "code",
   "execution_count": null,
   "id": "db9b4b36",
   "metadata": {},
   "outputs": [
    {
     "name": "stdout",
     "output_type": "stream",
     "text": [
      "[-60, 11, -50, 16]\n"
     ]
    }
   ],
   "source": [
    "# satpy bbox: (xmin, ymin, xmax, ymax), WSEN\n",
    "ll_bbox = [BBOX[0], BBOX[2], BBOX[1], BBOX[3]]\n",
    "print(ll_bbox)\n",
    "# ll_bbox = (-105.0, 40.0, -95.0, 50.0)\n",
    "scene_cropped = scene.crop(ll_bbox=ll_bbox)"
   ]
  },
  {
   "cell_type": "code",
   "execution_count": null,
   "id": "61f110b2",
   "metadata": {},
   "outputs": [],
   "source": [
    "# it is necessary to \"resample\" here because the different channels are at\n",
    "# different spatial resolution. By not passing in an \"area\" the highest\n",
    "# resolution possible will be used\n",
    "new_scn = scene_cropped.resample(resampler=\"native\")"
   ]
  },
  {
   "cell_type": "code",
   "execution_count": null,
   "id": "42fc4927",
   "metadata": {},
   "outputs": [],
   "source": [
    "from satpy.writers import get_enhanced_image"
   ]
  },
  {
   "cell_type": "code",
   "execution_count": null,
   "id": "5fc82607",
   "metadata": {},
   "outputs": [],
   "source": [
    "start_time = satdata.Goes16AWS.parse_key(filenames[0], parse_times=True)[\"start_time\"]"
   ]
  },
  {
   "cell_type": "code",
   "execution_count": null,
   "id": "c3841ebe",
   "metadata": {},
   "outputs": [],
   "source": [
    "# make ISO8601 identifier\n",
    "start_time_str = start_time.isoformat().replace(\"-\", \"\").replace(\":\", \"\") + \"Z\""
   ]
  },
  {
   "cell_type": "code",
   "execution_count": null,
   "id": "443afcec",
   "metadata": {},
   "outputs": [],
   "source": [
    "filename = f\"GOES16_true_color_{start_time_str}.tif\""
   ]
  },
  {
   "cell_type": "code",
   "execution_count": null,
   "id": "173291e7",
   "metadata": {},
   "outputs": [
    {
     "name": "stderr",
     "output_type": "stream",
     "text": [
      "/mnt/big/envs/envs/eurec4a-goes-truecolor-rgb-intake/lib/python3.9/site-packages/satpy/modifiers/angles.py:485: RuntimeWarning: invalid value encountered in log\n",
      "  grad_factor = 1. - np.log(grad_factor + 1) / np.log(2)\n"
     ]
    }
   ],
   "source": [
    "new_scn.save_dataset(\"true_color\", writer=\"geotiff\", filename=filename)"
   ]
  },
  {
   "cell_type": "code",
   "execution_count": null,
   "id": "a7f8b73e",
   "metadata": {},
   "outputs": [],
   "source": [
    "# Convert geotiff into netCDF file with RGB image data"
   ]
  },
  {
   "cell_type": "code",
   "execution_count": null,
   "id": "039985c1",
   "metadata": {},
   "outputs": [],
   "source": [
    "ds_ch1 = xr.open_dataset(filenames[0])"
   ]
  },
  {
   "cell_type": "code",
   "execution_count": null,
   "id": "5baaa628",
   "metadata": {},
   "outputs": [],
   "source": [
    "# read tiff with rioxarray\n",
    "da = rxr.open_rasterio(filename)"
   ]
  },
  {
   "cell_type": "code",
   "execution_count": null,
   "id": "32e34c79",
   "metadata": {},
   "outputs": [],
   "source": [
    "# as data array\n",
    "\n",
    "# remove attribute that we can't easily serialise\n",
    "da2 = da.copy().drop(\"spatial_ref\").expand_dims(\"t\") / 255\n",
    "# copy over projection info in a CF-compliant manner so that metpy can parse it\n",
    "grid_mapping = ds_ch1.Rad.grid_mapping\n",
    "da2.coords[grid_mapping] = ds_ch1[grid_mapping].drop([\"t\", \"x_image\", \"y_image\"])\n",
    "da2.attrs[\"grid_mapping\"] = grid_mapping\n",
    "da2.name = \"true_color\"\n",
    "\n",
    "da2.to_netcdf(filename.replace(\".tif\", \".nc\"))"
   ]
  },
  {
   "cell_type": "code",
   "execution_count": null,
   "id": "91f32cea",
   "metadata": {},
   "outputs": [],
   "source": []
  },
  {
   "cell_type": "code",
   "execution_count": null,
   "id": "0bc6aa23-8dec-4b1a-8a2a-60c5f473b807",
   "metadata": {},
   "outputs": [],
   "source": []
  }
 ],
 "metadata": {
  "kernelspec": {
   "display_name": "eurec4a-goes-truecolor-rgb-intake",
   "language": "python",
   "name": "eurec4a-goes-truecolor-rgb-intake"
  },
  "language_info": {
   "codemirror_mode": {
    "name": "ipython",
    "version": 3
   },
   "file_extension": ".py",
   "mimetype": "text/x-python",
   "name": "python",
   "nbconvert_exporter": "python",
   "pygments_lexer": "ipython3",
   "version": "3.9.12"
  }
 },
 "nbformat": 4,
 "nbformat_minor": 5
}
