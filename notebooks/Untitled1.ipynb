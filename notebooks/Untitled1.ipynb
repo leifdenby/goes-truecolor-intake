{
 "cells": [
  {
   "cell_type": "code",
   "execution_count": null,
   "id": "e51478b6-95d1-4518-b791-407b6dad2b10",
   "metadata": {},
   "outputs": [],
   "source": []
  },
  {
   "cell_type": "code",
   "execution_count": null,
   "id": "36bfc03e-95bf-4e76-b108-43a0e93a08aa",
   "metadata": {},
   "outputs": [],
   "source": [
    "import pyorbital.orbital"
   ]
  },
  {
   "cell_type": "code",
   "execution_count": null,
   "id": "dce9e8cc-1d51-417e-b789-6405974a4506",
   "metadata": {},
   "outputs": [],
   "source": [
    "DOMAIN_BBOX = [-60, -50, 11, 16]"
   ]
  },
  {
   "cell_type": "code",
   "execution_count": null,
   "id": "0bfec2ba-216d-4538-8f74-af1abf80cee1",
   "metadata": {},
   "outputs": [
    {
     "data": {
      "text/plain": [
       "(datetime.datetime(2014, 10, 3, 9, 10, tzinfo=tzutc()),\n",
       " datetime.datetime(2014, 10, 3, 21, 8, tzinfo=tzutc()))"
      ]
     },
     "execution_count": 10,
     "metadata": {},
     "output_type": "execute_result"
    }
   ],
   "source": [
    "from suntime import Sun, SunTimeException\n",
    "import datetime\n",
    "\n",
    "bbox = DOMAIN_BBOX\n",
    "date = datetime.date(2014, 10, 3)\n",
    "\n",
    "def calc_minmax_time_for_bbox(bbox, date):\n",
    "    west_edge = [(bbox[2] + bbox[3]) / 2, bbox[0]]\n",
    "    east_edge = [(bbox[2] + bbox[3]) / 2, bbox[1]]\n",
    "\n",
    "    t_min = Sun(*east_edge).get_sunrise_time(date)\n",
    "    t_max = Sun(*east_edge).get_sunset_time(date)\n",
    "\n",
    "    return t_min, t_max\n",
    "\n",
    "calc_minmax_time_for_bbox(DOMAIN_BBOX, date)"
   ]
  },
  {
   "cell_type": "code",
   "execution_count": null,
   "id": "74f5ca53-4046-494d-b7f7-029b00b56abd",
   "metadata": {},
   "outputs": [],
   "source": []
  }
 ],
 "metadata": {
  "kernelspec": {
   "display_name": "eurec4a-goes-truecolor-rgb-intake",
   "language": "python",
   "name": "eurec4a-goes-truecolor-rgb-intake"
  },
  "language_info": {
   "codemirror_mode": {
    "name": "ipython",
    "version": 3
   },
   "file_extension": ".py",
   "mimetype": "text/x-python",
   "name": "python",
   "nbconvert_exporter": "python",
   "pygments_lexer": "ipython3",
   "version": "3.9.12"
  }
 },
 "nbformat": 4,
 "nbformat_minor": 5
}
